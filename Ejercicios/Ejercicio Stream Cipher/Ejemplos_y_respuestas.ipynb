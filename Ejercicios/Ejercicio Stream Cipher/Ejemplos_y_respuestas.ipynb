{
 "cells": [
  {
   "cell_type": "markdown",
   "metadata": {},
   "source": [
    "# Ejercicio Stream Cipher\n",
    "## Ejemplos\n",
    "Universidad del Valle de Guatemala<br>\n",
    "Cifrado de Información<br>\n",
    "Pablo Andrés Zamora Vásquez<br>\n",
    "Carné 21780\n",
    "\n"
   ]
  },
  {
   "cell_type": "code",
   "execution_count": 1,
   "metadata": {},
   "outputs": [],
   "source": [
    "from streamCipher import stream_cipher"
   ]
  },
  {
   "cell_type": "markdown",
   "metadata": {},
   "source": [
    "## Cifrado"
   ]
  },
  {
   "cell_type": "code",
   "execution_count": 2,
   "metadata": {},
   "outputs": [
    {
     "name": "stdout",
     "output_type": "stream",
     "text": [
      "Texto original:  Hola este es un mensaje cifrado con keystream\n",
      "Keystream generado: ÿ\u0000IiÛhÄô^\u001eUó\u001aÔÐ®&jAª\n",
      "\u001c?\u0010AÑfÑ\u000bÓ;Õv\u001cç\u001f\u0010l\n",
      "\n",
      "çexto cifrado:  Àl(I¾\u001b°~æm© :¹µÀU\u000b+Ï*Vûb µ\tñh¼Uõ\u001d÷eämu\n"
     ]
    }
   ],
   "source": [
    "example_text_1 = \"Hola este es un mensaje cifrado con keystream\"\n",
    "key_1 = \"clave\"\n",
    "\n",
    "print(\"Texto original: \", example_text_1)\n",
    "cipher_text_1 = stream_cipher(example_text_1, key_1)\n",
    "print(\"\\nTexto cifrado: \", cipher_text_1)"
   ]
  },
  {
   "cell_type": "code",
   "execution_count": 3,
   "metadata": {},
   "outputs": [
    {
     "name": "stdout",
     "output_type": "stream",
     "text": [
      "Texto original:  Este es el segundo ejemplo del ejercicio de Keystream para el curso de Cifrados\n",
      "Keystream generado: ·2S\u0017Ã\\ë¹:î<\u0018dÜ\u000fµ(´\u001aÅ2\n",
      "~KælÄ\u0006Z4c!\u000b£pPùò-§ïá\u001d¦oÁ]É`ùsvYÍµÙ>{<fiÃhÿY<õ<\n",
      "\n",
      "Texto cifrado:  òAä67¦/ËÜVÎO}ù\u0011²kÚ¾þBÑwµ^e^/\u0000¡¡lò(W\n",
      "Bbé÷\u0015p²TÔî|ËO±<»\u0001Ù\u0016\u001ay®À«M\u0014\u001c\u0002\fãÃ\u0001+]Sé\n"
     ]
    }
   ],
   "source": [
    "example_text_2 = \"Este es el segundo ejemplo del ejercicio de Keystream para el curso de Cifrados\"\n",
    "key_2 = \"Esta es una clave segura\"\n",
    "print(\"Texto original: \", example_text_2)\n",
    "cipher_text_2 = stream_cipher(example_text_2, key_2)\n",
    "print(\"\\nTexto cifrado: \", cipher_text_2)"
   ]
  },
  {
   "cell_type": "markdown",
   "metadata": {},
   "source": [
    "## Descifrado"
   ]
  },
  {
   "cell_type": "code",
   "execution_count": 4,
   "metadata": {},
   "outputs": [
    {
     "name": "stdout",
     "output_type": "stream",
     "text": [
      "Keystream generado: ÿ\u0000IiÛhÄô^\u001eUó\u001aÔÐ®&jAª\n",
      "\u001c?\u0010AÑfÑ\u000bÓ;Õv\u001cç\u001f\u0010l\n",
      "\n",
      "Texto descifrado:  Hola este es un mensaje cifrado con keystream\n"
     ]
    }
   ],
   "source": [
    "decipher_text_1 = stream_cipher(cipher_text_1, key_1)\n",
    "print(\"\\nTexto descifrado: \", decipher_text_1)"
   ]
  },
  {
   "cell_type": "code",
   "execution_count": 5,
   "metadata": {},
   "outputs": [
    {
     "name": "stdout",
     "output_type": "stream",
     "text": [
      "Keystream generado: ·2S\u0017Ã\\ë¹:î<\u0018dÜ\u000fµ(´\u001aÅ2\n",
      "~KælÄ\u0006Z4c!\u000b£pPùò-§ïá\u001d¦oÁ]É`ùsvYÍµÙ>{<fiÃhÿY<õ<\n",
      "\n",
      "Texto descifrado:  Este es el segundo ejemplo del ejercicio de Keystream para el curso de Cifrados\n"
     ]
    }
   ],
   "source": [
    "decipher_text_2 = stream_cipher(cipher_text_2, key_2)\n",
    "print(\"\\nTexto descifrado: \", decipher_text_2)"
   ]
  },
  {
   "cell_type": "markdown",
   "metadata": {},
   "source": [
    "## Preguntas"
   ]
  },
  {
   "cell_type": "markdown",
   "metadata": {},
   "source": [
    "*¿Qué sucede cuando cambias la clave utilizada para generar el keystream?*\n",
    "\n",
    "Cuando se cambia la clave, el keystream generado es completamente diferente, ya que la clave es la semilla (seed) que se alimenta al PRNG que genera los caracteres del keystream. Por ello, si se intenta descifrar un mensaje utilizando una clave distinta a la que se utilizó para el cifrado, simplemente se obtendrá un mensaje ilegible.\n",
    "\n",
    "Por ejemplo:"
   ]
  },
  {
   "cell_type": "code",
   "execution_count": 6,
   "metadata": {},
   "outputs": [
    {
     "name": "stdout",
     "output_type": "stream",
     "text": [
      "Keystream generado: C\u0013ÛØ|Öá{\"{9\u001fÍiÆ\n",
      "Keystream generado: ì|R/¹}\u001f½H¤r\u0017~õó.\n",
      "Texto original:  Texto plano original\n",
      "Texto cifrado:  \u0017v£¬ý\\¦í\u0015þ\u0002\u0014Kvþïª\n",
      "Texto descifrado (con llave incorrecta):  û\n",
      "Á33¹P\u0004]Zp\u00035\n"
     ]
    }
   ],
   "source": [
    "original_text = \"Texto plano original\"\n",
    "key = \"clave correcta\"\n",
    "\n",
    "cipher_text = stream_cipher(original_text, key)\n",
    "decipher_text = stream_cipher(cipher_text, 'clave incorrecta')\n",
    "\n",
    "print('Texto original: ', original_text)\n",
    "print('Texto cifrado: ', cipher_text)\n",
    "print('Texto descifrado (con llave incorrecta): ', decipher_text)"
   ]
  },
  {
   "cell_type": "markdown",
   "metadata": {},
   "source": [
    "*¿Qué riesgos de seguridad existen si reutilizas el mismo keystream para cifrar dos mensajes diferentes?*\n",
    "\n",
    "Utilizar el mismo keystream para cifrar dos mensajes diferentes hace más vulnerable la clave utilizada, ya que un atacante podría obtener el XOR de los mensajes originales a partir del XOR de los mensajes cifrados. Esto se debe a las propiedades del XOR:\n",
    "\n",
    "C1 ⊕ C2 = (M1 ⊕ K) ⊕ (M2 ⊕ K) = M1 ⊕ M2\n",
    "\n",
    "Una vez con el XOR de los dos mensajes originales, si se contara con cualquiera de estos, es posible obtener el otro con un simple XOR. Además, con el XOR de los mensajes originales también es posible analizar patrones."
   ]
  },
  {
   "cell_type": "markdown",
   "metadata": {},
   "source": [
    "*¿Cómo afecta la longitud del keystream a la seguridad del cifrado?*\n",
    "\n",
    "Al cifrar un mensaje corto y, por tanto, con un keystream corto, este es más susceptible a ser descifrado mediante fuerza bruta, ya que existen menos posibilidades entre las cuales probar. Por ejemplo, el mensaje \"Hi\" únicamente cuenta con 65,536 keystreams posibles para cifrar (256 x 256). No obstante, un mensaje largo cifrado con un keystream generado con un PRNG débil o predecible también es vulnerable, ya que un atacante podría encontrar patrones o correlaciones y explotarlas en un análisis estadístico.\n",
    "\n",
    "Por otro lado, si el keystream es menor que la longitud del mensaje original, este deberá repetirse cuantas veces sea necesario para poder realizar el XOR con el mensaje original. Esto también introduce patrones en el mensaje cifrado que lo hacen más vulnerable a un análisis de frecuencia. Por ello, es importante que el keystream generado a partir de un PRNG posea la misma longitud que el mensaje original."
   ]
  },
  {
   "cell_type": "markdown",
   "metadata": {},
   "source": [
    "*¿Qué consideraciones debes tener al generar un keystream en un entorno real?*\n",
    "\n",
    "Primero, usar un PRNG criptográficamente seguro (como os.urandom()) en lugar de un generador pseudoaleatorio común como *random.seed()*; idealmente, se usaría un TRNG para la generación de la seed. Además, nunca reutilizar el mismo keystream para diferentes mensajes, sino que se debe usar una clave única por cada cifrado."
   ]
  },
  {
   "cell_type": "markdown",
   "metadata": {},
   "source": [
    "*Reflexiona sobre las limitaciones de los generadores pseudoaleatorios simples en la seguridad de cifrados reales.*\n",
    "\n",
    "Los PRNGs convencionales generan secuencias de números que parecen aletorios, pero en realidad siguen patrones deterministas. Si un atacante conoce el algoritmo y logra capturar parte del keystream, podría predecir valores futuros y descifrar el mensaje. Por ejemplo, al usar *random* de Python para generar un keystream, un atacante que descubra la semilla puede regenerar el keystream completo y descifrar cualquier mensaje que haya sido cifrado con él.\n",
    "\n",
    "Por otro lado, los PRNGs tienen un periodo infinito, por lo que después de generar cierto número de valores, la secuencia comienza a repetirse, creando así patrones que pueden ser explotados mediante análisis de frecuencias."
   ]
  },
  {
   "cell_type": "markdown",
   "metadata": {},
   "source": [
    "**Opcional: Mejorando la Seguridad**\n",
    "\n",
    "*Investiga cómo los cifrados de flujo modernos, como ChaCha20, generan keystreams y compáralo con tu implementación básica.*\n",
    "\n",
    "Cifrados modernos, como ChaCha20, además de una clave utilizan *nonces* únicos para cada mensaje, asegurando que, incluso con la misma clave, los keystreams sean diferentes para cada ejecución. Además, a través de una serie de 20 rondas de operaciones aritméticas, rotaciones y XOR (conocidas como operaciones ARX), ChaCha20 transforma el estado inicial para producir bloques de keystream de 512 bits.\n",
    "\n",
    "La implementación básica realizada en este ejercicio, por otro lado, utiliza un PRNG simple (*random.seed()*) inicializado con una semilla. Al no incorporar el uso de nonces ni operaciones complejas que dificulten la predicción o reversión del keystream, un atacante podría determinar la semilla."
   ]
  },
  {
   "cell_type": "markdown",
   "metadata": {},
   "source": [
    "**Referencias**\n",
    "\n",
    "Nir, Y., & Langley, A. (2015). ChaCha20 and Poly1305 for IETF protocols (RFC 7539). Internet Engineering Task Force (IETF). https://datatracker.ietf.org/doc/html/rfc7539\n",
    "\n",
    "Este ejercicio fue realizado con la ayuda de GPT-4o: https://chatgpt.com/share/67bea3bb-0a44-800e-915f-92175a43eccc"
   ]
  }
 ],
 "metadata": {
  "kernelspec": {
   "display_name": "Python 3",
   "language": "python",
   "name": "python3"
  },
  "language_info": {
   "codemirror_mode": {
    "name": "ipython",
    "version": 3
   },
   "file_extension": ".py",
   "mimetype": "text/x-python",
   "name": "python",
   "nbconvert_exporter": "python",
   "pygments_lexer": "ipython3",
   "version": "3.11.7"
  }
 },
 "nbformat": 4,
 "nbformat_minor": 2
}
