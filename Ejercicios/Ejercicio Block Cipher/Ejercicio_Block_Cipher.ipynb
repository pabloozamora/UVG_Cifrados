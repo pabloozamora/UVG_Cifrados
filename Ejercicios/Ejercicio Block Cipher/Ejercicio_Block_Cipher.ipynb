{
 "cells": [
  {
   "cell_type": "markdown",
   "metadata": {},
   "source": [
    "# Ejercicio Block Cipher\n",
    "Universidad del Valle de Guatemala<br>\n",
    "Cifrado de Información<br>\n",
    "Pablo Andrés Zamora Vásquez<br>\n",
    "Carné 21780\n",
    "\n"
   ]
  },
  {
   "cell_type": "markdown",
   "metadata": {},
   "source": [
    "## Generación una función cifrado y descifrado DES"
   ]
  },
  {
   "cell_type": "code",
   "execution_count": 1,
   "metadata": {},
   "outputs": [],
   "source": [
    "from DESFunctions import *"
   ]
  },
  {
   "cell_type": "code",
   "execution_count": 2,
   "metadata": {},
   "outputs": [
    {
     "name": "stdout",
     "output_type": "stream",
     "text": [
      "Cifrado: b'\\x00\\xa1\\\\p\\xe6\\x19\\x8b\\x86RB\\x1b\\x8cR\\xf5\\x8f>h`\\xc3\\x18N\\x84\\x0fj\\xcc\\x19\\x8eM\\xb2\\x1e\\xfa\\xec\\x83\\xf6t\\xff\\xdd\\x85H\\xd0\\xa1\\x94\\xbd\\xcc\\xc9.\\x9f\\xc1\\x85q<E7\\xd0\\xb1\\xd7\\xff\\xe2\\xeb\\xf9\\xf5,\\xc3\\x83'\n",
      "Descifrado: Este es el ejercicio Block Cipher de la clase de Cifrados\n"
     ]
    }
   ],
   "source": [
    "# Mensaje de prueba\n",
    "plaintext = \"Este es el ejercicio Block Cipher de la clase de Cifrados\"\n",
    "\n",
    "# Generar llave aleatoria\n",
    "key = generate_random_key()\n",
    "\n",
    "# Cifrado\n",
    "ciphertext = des_encrypt(plaintext, key)\n",
    "print(f\"Cifrado: {ciphertext}\")\n",
    "\n",
    "# Descifrado\n",
    "decrypted_text = des_decrypt(ciphertext, key)\n",
    "print(f\"Descifrado: {decrypted_text}\")"
   ]
  }
 ],
 "metadata": {
  "kernelspec": {
   "display_name": "Python 3",
   "language": "python",
   "name": "python3"
  },
  "language_info": {
   "codemirror_mode": {
    "name": "ipython",
    "version": 3
   },
   "file_extension": ".py",
   "mimetype": "text/x-python",
   "name": "python",
   "nbconvert_exporter": "python",
   "pygments_lexer": "ipython3",
   "version": "3.11.7"
  }
 },
 "nbformat": 4,
 "nbformat_minor": 2
}
