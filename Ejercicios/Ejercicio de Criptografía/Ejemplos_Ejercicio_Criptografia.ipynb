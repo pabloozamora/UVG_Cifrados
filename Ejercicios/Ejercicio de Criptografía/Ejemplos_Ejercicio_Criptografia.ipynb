{
 "cells": [
  {
   "cell_type": "markdown",
   "metadata": {},
   "source": [
    "# Ejercicio de Criptografía\n",
    "## Parte 2: Ejemplos\n",
    "Universidad del Valle de Guatemala<br>\n",
    "Cifrado de Información<br>\n",
    "Pablo Andrés Zamora Vásquez<br>\n",
    "Carné 21780\n",
    "\n"
   ]
  },
  {
   "cell_type": "markdown",
   "metadata": {},
   "source": [
    "## ASCII a Binario"
   ]
  },
  {
   "cell_type": "code",
   "execution_count": 78,
   "metadata": {},
   "outputs": [
    {
     "name": "stdout",
     "output_type": "stream",
     "text": [
      "Texto en binario: 01101000011011110110110001100001\n"
     ]
    }
   ],
   "source": [
    "def ascii_to_binary(text):\n",
    "    \"\"\"\n",
    "    Convierte un texto en binario representando cada carácter en formato ASCII.\n",
    "\n",
    "    Args:\n",
    "        text (str): Texto de entrada que será convertido a binario.\n",
    "\n",
    "    Returns:\n",
    "        str: Texto convertido a binario, separado por espacios entre caracteres.\n",
    "    \"\"\"\n",
    "    binary_result = ''\n",
    "    for char in text:\n",
    "        ascii_value = ord(char)  # Obtener el valor ASCII del carácter\n",
    "        binary_value = \"\"\n",
    "        while ascii_value > 0:\n",
    "            binary_value = str(ascii_value % 2) + binary_value\n",
    "            ascii_value //= 2\n",
    "        # Asegurar que el binario tenga 8 bits\n",
    "        binary_value = binary_value.zfill(8)\n",
    "        binary_result += binary_value\n",
    "    return binary_result\n",
    "\n",
    "text = 'hola'\n",
    "binary_output = ascii_to_binary(text)\n",
    "print(f\"Texto en binario: {binary_output}\")"
   ]
  },
  {
   "cell_type": "markdown",
   "metadata": {},
   "source": [
    "## Base64 a Binario"
   ]
  },
  {
   "cell_type": "code",
   "execution_count": 79,
   "metadata": {},
   "outputs": [
    {
     "name": "stdout",
     "output_type": "stream",
     "text": [
      "Texto en binario: 011010000110111101101100011000010000\n"
     ]
    }
   ],
   "source": [
    "def base64_to_binary(text):\n",
    "\n",
    "    base_64_alphabet = 'ABCDEFGHIJKLMNOPQRSTUVWXYZabcdefghijklmnopqrstuvwxyz0123456789+/'\n",
    "\n",
    "    \"\"\"\n",
    "    Convierte un texto en Base64 a su representación binaria.\n",
    "\n",
    "    Args:\n",
    "        text (str): Texto en formato Base64 que será convertido a binario.\n",
    "\n",
    "    Returns:\n",
    "        str: Texto convertido a binario, separado por espacios entre caracteres.\n",
    "    \"\"\"\n",
    "    \n",
    "    binary_result = []\n",
    "\n",
    "    for char in text:\n",
    "        if char in base_64_alphabet:\n",
    "            # Obtener el índice del carácter en el alfabeto Base64\n",
    "            index = base_64_alphabet.index(char)\n",
    "            # Convertir el índice a binario manualmente\n",
    "            binary_value = \"\"\n",
    "            while index > 0:\n",
    "                binary_value = str(index % 2) + binary_value\n",
    "                index //= 2\n",
    "            # Asegurarse de que el binario sea de 6 bits\n",
    "            binary_value = binary_value.zfill(6)\n",
    "            binary_result.append(binary_value)\n",
    "        elif char == '=':\n",
    "            # Padding de Base64\n",
    "            continue\n",
    "        else:\n",
    "            raise ValueError(f\"Carácter inválido en Base64: {char}\")\n",
    "\n",
    "    return ''.join(binary_result)\n",
    "\n",
    "\n",
    "base64_text = 'aG9sYQ=='\n",
    "binary_output = base64_to_binary(base64_text)\n",
    "print(f\"Texto en binario: {binary_output}\")"
   ]
  },
  {
   "cell_type": "markdown",
   "metadata": {},
   "source": [
    "## Binario a Base64"
   ]
  },
  {
   "cell_type": "code",
   "execution_count": 80,
   "metadata": {},
   "outputs": [
    {
     "name": "stdout",
     "output_type": "stream",
     "text": [
      "Texto en Base64: aG9sYQ==\n"
     ]
    }
   ],
   "source": [
    "def binary_to_base64(binary_text):\n",
    "    \"\"\"\n",
    "    Convierte un texto en binario a su representación en Base64.\n",
    "\n",
    "    Args:\n",
    "        binary_text (str): Texto en binario que será convertido a Base64.\n",
    "\n",
    "    Returns:\n",
    "        str: Texto convertido a Base64.\n",
    "    \"\"\"\n",
    "    base_64_alphabet = 'ABCDEFGHIJKLMNOPQRSTUVWXYZabcdefghijklmnopqrstuvwxyz0123456789+/'\n",
    "    base64_result = []\n",
    "\n",
    "    # Rellenar el binario con ceros si su longitud no es múltiplo de 6\n",
    "    padding_needed = (6 - len(binary_text) % 6) % 6\n",
    "    if padding_needed > 0:\n",
    "        binary_text += '0' * padding_needed\n",
    "\n",
    "    # Dividir el texto binario en grupos de 6 bits\n",
    "    for i in range(0, len(binary_text), 6):\n",
    "        binary_chunk = binary_text[i:i + 6]\n",
    "        # Convertir cada grupo de 6 bits a su valor decimal\n",
    "        decimal_value = int(binary_chunk, 2)\n",
    "        # Mapear el valor decimal al alfabeto Base64\n",
    "        base64_result.append(base_64_alphabet[decimal_value])\n",
    "\n",
    "    base64_result = ''.join(base64_result) + '=' * int(padding_needed / 2)\n",
    "    return base64_result\n",
    "\n",
    "binary_text = '01101000011011110110110001100001'\n",
    "base64_output = binary_to_base64(binary_text)\n",
    "print(f\"Texto en Base64: {base64_output}\")\n"
   ]
  },
  {
   "cell_type": "markdown",
   "metadata": {},
   "source": [
    "## Binario a ASCII"
   ]
  },
  {
   "cell_type": "code",
   "execution_count": 81,
   "metadata": {},
   "outputs": [
    {
     "name": "stdout",
     "output_type": "stream",
     "text": [
      "Texto en ASCII: hola\n"
     ]
    }
   ],
   "source": [
    "def binary_to_ascii(binary_text):\n",
    "    \"\"\"\n",
    "    Convierte un texto en binario a su representación ASCII.\n",
    "\n",
    "    Args:\n",
    "        binary_text (str): Texto en binario que será convertido a ASCII.\n",
    "\n",
    "    Returns:\n",
    "        str: Texto convertido a ASCII.\n",
    "    \"\"\"\n",
    "    ascii_result = ''\n",
    "\n",
    "    # Validar que la longitud del texto binario sea un múltiplo de 8\n",
    "    if len(binary_text) % 8 != 0:\n",
    "        # Calcular cuántos ceros se necesitan\n",
    "        padding_needed = 8 - (len(binary_text) % 8)\n",
    "        binary_text = '0' * padding_needed + binary_text\n",
    "\n",
    "    # Dividir el texto binario en grupos de 8 bits\n",
    "    for i in range(0, len(binary_text), 8):\n",
    "        binary_chunk = binary_text[i:i + 8]\n",
    "        # Convertir cada grupo de 8 bits a su valor decimal\n",
    "        decimal_value = int(binary_chunk, 2)\n",
    "        # Convertir el valor decimal a su carácter ASCII\n",
    "        ascii_result += chr(decimal_value)\n",
    "\n",
    "    return ascii_result\n",
    "\n",
    "binary_text = '01101000011011110110110001100001'\n",
    "ascii_output = binary_to_ascii(binary_text)\n",
    "print(f\"Texto en ASCII: {ascii_output}\")"
   ]
  },
  {
   "cell_type": "markdown",
   "metadata": {},
   "source": [
    "## Base64 a ASCII"
   ]
  },
  {
   "cell_type": "code",
   "execution_count": 82,
   "metadata": {},
   "outputs": [
    {
     "name": "stdout",
     "output_type": "stream",
     "text": [
      "Texto en ASCII: hola\n"
     ]
    }
   ],
   "source": [
    "def base64_to_ascii(text):\n",
    "\n",
    "    base_64_alphabet = 'ABCDEFGHIJKLMNOPQRSTUVWXYZabcdefghijklmnopqrstuvwxyz0123456789+/'\n",
    "\n",
    "    \"\"\"\n",
    "    Convierte un texto en Base64 a su representación binaria.\n",
    "\n",
    "    Args:\n",
    "        text (str): Texto en formato Base64 que será convertido a binario.\n",
    "\n",
    "    Returns:\n",
    "        str: Texto convertido a binario, separado por espacios entre caracteres.\n",
    "    \"\"\"\n",
    "    \n",
    "    binary_result = []\n",
    "\n",
    "    for char in text:\n",
    "        if char in base_64_alphabet:\n",
    "            # Obtener el índice del carácter en el alfabeto Base64\n",
    "            index = base_64_alphabet.index(char)\n",
    "            # Convertir el índice a binario manualmente\n",
    "            binary_value = \"\"\n",
    "            while index > 0:\n",
    "                binary_value = str(index % 2) + binary_value\n",
    "                index //= 2\n",
    "            # Asegurarse de que el binario sea de 8 bits\n",
    "            binary_value = binary_value.zfill(6)\n",
    "            binary_result.append(binary_value)\n",
    "        elif char == '=':\n",
    "            # Padding de Base64\n",
    "            continue\n",
    "        else:\n",
    "            raise ValueError(f\"Carácter inválido en Base64: {char}\")\n",
    "        \n",
    "    binary_text = ''.join(binary_result)\n",
    "\n",
    "    ascii_result = ''\n",
    "        \n",
    "    # Si el texto tiene padding, se elimina la cantidad de ceros que corresponden al padding\n",
    "    padding_count = text.count('=')\n",
    "    binary_text = binary_text[:-padding_count * 2]\n",
    "\n",
    "    # Dividir el texto binario en grupos de 8 bits\n",
    "    for i in range(0, len(binary_text), 8):\n",
    "        binary_chunk = binary_text[i:i + 8]\n",
    "        # Convertir cada grupo de 8 bits a su valor decimal\n",
    "        decimal_value = int(binary_chunk, 2)\n",
    "        # Convertir el valor decimal a su carácter ASCII\n",
    "        ascii_result += chr(decimal_value)\n",
    "\n",
    "    return ascii_result\n",
    "\n",
    "base64_text = 'aG9sYQ=='\n",
    "ascii_output = base64_to_ascii(base64_text)\n",
    "print(f\"Texto en ASCII: {ascii_output}\")"
   ]
  },
  {
   "cell_type": "markdown",
   "metadata": {},
   "source": [
    "## XOR"
   ]
  },
  {
   "cell_type": "code",
   "execution_count": 89,
   "metadata": {},
   "outputs": [
    {
     "name": "stdout",
     "output_type": "stream",
     "text": [
      "Resultado del XOR entre 01101000011011110110110001100001 y 01101000011011110110110001100001: 0\n",
      "Resultado del XOR entre 01101000011011110110110001100001 y 10110101001100101011010100110010: 11011101010111011101100101010011\n"
     ]
    }
   ],
   "source": [
    "def xor(binary_text1, binary_text2):\n",
    "    num1 = int(binary_text1, 2)\n",
    "    num2 = int(binary_text2, 2)\n",
    "    # Realizar operación XOR y convertir resultado a binario\n",
    "    result = num1 ^ num2\n",
    "    return bin(result)[2:] \n",
    "\n",
    "binary_text1 = '01101000011011110110110001100001'\n",
    "binary_text2 = '01101000011011110110110001100001'\n",
    "xor_output = xor(binary_text1, binary_text2)\n",
    "print(f\"Resultado del XOR entre {binary_text1} y {binary_text2}: {xor_output}\")\n",
    "\n",
    "binary_text1 = '01101000011011110110110001100001'\n",
    "binary_text2 = '10110101001100101011010100110010'\n",
    "xor_output = xor(binary_text1, binary_text2)\n",
    "print(f\"Resultado del XOR entre {binary_text1} y {binary_text2}: {xor_output}\")\n",
    "\n"
   ]
  },
  {
   "cell_type": "markdown",
   "metadata": {},
   "source": [
    "## Generación de llave dinámica"
   ]
  },
  {
   "cell_type": "code",
   "execution_count": 84,
   "metadata": {},
   "outputs": [
    {
     "name": "stdout",
     "output_type": "stream",
     "text": [
      "Llave dinámica: ª`¹üÜ%²6j\n"
     ]
    }
   ],
   "source": [
    "import random\n",
    "\n",
    "def generate_dynamic_key(quantity):\n",
    "    key = ''\n",
    "    for i in range(quantity):\n",
    "        key += chr(random.randint(0, 255))\n",
    "    return key\n",
    "\n",
    "quantity = 10\n",
    "key = generate_dynamic_key(quantity)\n",
    "print(f\"Llave dinámica: {key}\")\n"
   ]
  },
  {
   "cell_type": "markdown",
   "metadata": {},
   "source": [
    "## Cifrado con llave de tamaño fijo"
   ]
  },
  {
   "cell_type": "code",
   "execution_count": 93,
   "metadata": {},
   "outputs": [
    {
     "name": "stdout",
     "output_type": "stream",
     "text": [
      "---Cifrado con texto mayor a la llave---\n",
      "Llave extendida: 1231\n",
      "Texto cifrado (binario): 1011001010111010101111101010000\n",
      "Texto cifrado (ascii): Y]_P\n",
      "Texto descifrado (binario): 1101000011011110110110001100001\n",
      "Texto descifrado (ascii): hola\n",
      "\n",
      "---Cifrado con texto menor a la llave---\n",
      "Texto extendido: ho________\n",
      "Texto cifrado (binario): 1011001010111010110110001101011011010100110100101101000011001110110011001101111\n",
      "Texto cifrado (ascii): Y]lkjihgfo\n",
      "Texto descifrado (binario): 1101000011011110101111101011111010111110101111101011111010111110101111101011111\n",
      "Texto descifrado (ascii): ho________\n"
     ]
    }
   ],
   "source": [
    "def fixed_key_cypher(text, key):\n",
    "    cypher_text = ''\n",
    "\n",
    "    if len(text) > len(key):\n",
    "        key = key * (len(text) // len(key)) + key[:len(text) % len(key)]\n",
    "        print(f\"Llave extendida: {key}\")\n",
    "\n",
    "    elif len(text) < len(key):\n",
    "        text = text + '_' * (len(key) - len(text))\n",
    "        print(f\"Texto extendido: {text}\")\n",
    "\n",
    "    binary_text = ascii_to_binary(text)\n",
    "    binary_key = ascii_to_binary(key)\n",
    "    xor_output = xor(binary_text, binary_key)\n",
    "\n",
    "    print(f\"Texto cifrado (binario): {xor_output}\")\n",
    "    print(f\"Texto cifrado (ascii): {binary_to_ascii(xor_output)}\")\n",
    "\n",
    "    plain_text = xor(xor_output, binary_key)\n",
    "    print(f\"Texto descifrado (binario): {plain_text}\")\n",
    "    print(f\"Texto descifrado (ascii): {binary_to_ascii(plain_text)}\")\n",
    "\n",
    "    return xor_output\n",
    "\n",
    "print('---Cifrado con texto mayor a la llave---')\n",
    "text = 'hola'\n",
    "key = '123'\n",
    "cypher_text = fixed_key_cypher(text, key)\n",
    "\n",
    "print('\\n---Cifrado con texto menor a la llave---')\n",
    "text = 'ho'\n",
    "key = '1234567890'\n",
    "cypher_text = fixed_key_cypher(text, key)"
   ]
  },
  {
   "cell_type": "markdown",
   "metadata": {},
   "source": [
    "## Cifrado con llave de tamaño dinámico"
   ]
  },
  {
   "cell_type": "code",
   "execution_count": 94,
   "metadata": {},
   "outputs": [
    {
     "name": "stdout",
     "output_type": "stream",
     "text": [
      "\n",
      "---Cifrado con texto mayor a la llave---\n",
      "Llave dinámica: W3zéN3Iõ¥\n",
      "Texto extendido: hola______\n",
      "Texto cifrado (binario): 111111010111000001011010001000000100010110110000010110101010101101000111111010\n",
      "Texto cifrado (ascii): ?\\\u0016\u0011l\u0016ªÑú\n",
      "Texto descifrado (binario): 1101000011011110110110001100001010111110101111101011111010111110101111101011111\n",
      "Texto descifrado (ascii): hola______\n",
      "\n",
      "---Cifrado con texto menor a la llave---\n",
      "Llave dinámica: ºÖéÜî\u0006JÍ´\n",
      "Texto extendido: ho________\n",
      "Texto cifrado (binario): 11010010101110011011011010000011101100010101100100010101100100101110101111011001\n",
      "Texto cifrado (ascii): Ò¹¶±Y\u0015ëÙ\n",
      "Texto descifrado (binario): 1101000011011110101111101011111010111110101111101011111010111110101111101011111\n",
      "Texto descifrado (ascii): ho________\n"
     ]
    }
   ],
   "source": [
    "def dynamic_key_cypher(text, key_length):\n",
    "    cypher_text = ''\n",
    "    key = generate_dynamic_key(key_length)\n",
    "    print(f\"Llave dinámica: {key}\")\n",
    "\n",
    "    if len(text) > len(key):\n",
    "        key = key * (len(text) // len(key)) + key[:len(text) % len(key)]\n",
    "        print(f\"Llave extendida: {key}\")\n",
    "\n",
    "    elif len(text) < len(key):\n",
    "        text = text + '_' * (len(key) - len(text))\n",
    "        print(f\"Texto extendido: {text}\")\n",
    "\n",
    "    binary_text = ascii_to_binary(text)\n",
    "    binary_key = ascii_to_binary(key)\n",
    "    xor_output = xor(binary_text, binary_key)\n",
    "    \n",
    "    print(f\"Texto cifrado (binario): {xor_output}\")\n",
    "    print(f\"Texto cifrado (ascii): {binary_to_ascii(xor_output)}\")\n",
    "\n",
    "    plain_text = xor(xor_output, binary_key)\n",
    "    print(f\"Texto descifrado (binario): {plain_text}\")\n",
    "    print(f\"Texto descifrado (ascii): {binary_to_ascii(plain_text)}\")\n",
    "\n",
    "print('\\n---Cifrado con texto mayor a la llave---')\n",
    "text = 'hola'\n",
    "key_length = 10\n",
    "cypher_text = dynamic_key_cypher(text, key_length)\n",
    "\n",
    "print('\\n---Cifrado con texto menor a la llave---')\n",
    "text = 'ho'\n",
    "key_length = 10\n",
    "cypher_text = dynamic_key_cypher(text, key_length)\n"
   ]
  }
 ],
 "metadata": {
  "kernelspec": {
   "display_name": "Python 3",
   "language": "python",
   "name": "python3"
  },
  "language_info": {
   "codemirror_mode": {
    "name": "ipython",
    "version": 3
   },
   "file_extension": ".py",
   "mimetype": "text/x-python",
   "name": "python",
   "nbconvert_exporter": "python",
   "pygments_lexer": "ipython3",
   "version": "3.11.7"
  }
 },
 "nbformat": 4,
 "nbformat_minor": 2
}
