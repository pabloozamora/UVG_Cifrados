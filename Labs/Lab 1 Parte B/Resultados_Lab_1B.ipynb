{
 "cells": [
  {
   "cell_type": "markdown",
   "metadata": {},
   "source": [
    "# Laboratorio 1 Parte B\n",
    "## Resultados\n",
    "Universidad del Valle de Guatemala<br>\n",
    "Cifrado de Información<br>\n",
    "Pablo Andrés Zamora Vásquez<br>\n",
    "Carné 21780\n",
    "\n"
   ]
  },
  {
   "cell_type": "markdown",
   "metadata": {},
   "source": [
    "### Introducción\n",
    "<hr>"
   ]
  },
  {
   "cell_type": "markdown",
   "metadata": {},
   "source": [
    "A continuación se hace uso de las funciones de fuerza bruta con análisis de frecuencia para los cifrados\n",
    "**Ceasar, Afines y Vigenère**. La métrica utilizada para definir los mejores intentos durante el algoritmo de fuerza bruta\n",
    "fue **Chi Cuadrado**, la cual comparara las frecuencias de cada intento de texto descifrado con las frecuencias teóricas del abecedario\n",
    "castellano. Mientras más bajo el valor de la métrica, más se asimilan la distribución de frecuencias teórica\n",
    "y la distribución de frecuencias empírica. Para cada algoritmo, se muestran los intentos de texto descifrado\n",
    "con las mejores 5 métricas (con los valores más bajos)."
   ]
  },
  {
   "cell_type": "code",
   "execution_count": 1,
   "metadata": {},
   "outputs": [],
   "source": [
    "from brute_force_ceasar import brute_force_ceasar\n",
    "from brute_force_afin import brute_force_afines\n",
    "from brute_force_vigenere import brute_force_vigenere\n",
    "from utils import clean_text"
   ]
  },
  {
   "cell_type": "markdown",
   "metadata": {},
   "source": [
    "## Ceasar"
   ]
  },
  {
   "cell_type": "code",
   "execution_count": 2,
   "metadata": {},
   "outputs": [
    {
     "name": "stdout",
     "output_type": "stream",
     "text": [
      "\n",
      "--- Métrica: 0.18170399254810687 ---\n",
      "Clave: 23\n",
      "\n",
      "nnuestrolaberintodigitalenconstanteevolucionlaagilidadcriptograficacriptoagilidadparaabreviaresunmecanismodedefensacrucialosbrindalacapacidaddemodificarrapidamenteelusodealgoritmosyclavescriptograficosunaaccionnecesariaparaanticiparnosalasfuturasamenazasdeciberseguridad\n",
      "\n",
      "--- Métrica: 3.8215461527002472 ---\n",
      "Clave: 10\n",
      "\n",
      "zzhqfgebxnñqeuzgbpusugnxqzobzfgnzgqqibxhoubzxnnsuxupnpoeucgbsenruonoeucgbnsuxupnpcnennñeqiuneqfhzyqonzufybpqpqrqzfnoehounxbfñeuzpnxnoncnoupnppqybpuruoneencupnyqzgqqxhfbpqnxsbeugybfloxniqfoeucgbsenruobfhznnooubzzqoqfneuncnennzguoucnezbfnxnfrhghenfnyqznmnfpqouñqefqsheupnp\n",
      "\n",
      "--- Métrica: 6.430096396516924 ---\n",
      "Clave: 22\n",
      "\n",
      "ññvftuspmbcfsjñupejhjubmfñdpñtubñuffwpmvdjpñmbbhjmjebedsjquphsbgjdbdsjqupbhjmjebeqbsbbcsfwjbsftvñnfdbñjtnpefefgfñtbdsvdjbmptcsjñebmbdbqbdjebeefnpejgjdbssbqjebnfñuffmvtpefbmhpsjunptzdmbwftdsjquphsbgjdptvñbbddjpññfdftbsjbqbsbbñujdjqbsñptbmbtgvuvsbtbnfñbabtefdjcfstfhvsjebe\n",
      "\n",
      "--- Métrica: 7.708772402380878 ---\n",
      "Clave: 12\n",
      "\n",
      "xxfodeczvlmocsxezñsqselvoxnzxdelxeoogzvfnszxvllqsvsñlñncsaezqclpsnlncsaezlqsvsñlñalcllmcogslcodfxwonlxsdwzñoñopoxdlncfnslvzdmcsxñlvlnlalnsñlññowzñspsnlcclasñlwoxeoovfdzñolvqzcsewzdjnvlgodncsaezqclpsnzdfxllnnszxxonodlcslalcllxesnsalcxzdlvldpfefcldlwoxlkldñonsmocdoqfcsñlñ\n",
      "\n",
      "--- Métrica: 8.681047008485749 ---\n",
      "Clave: 25\n",
      "\n",
      "llscqrpnjyzcpglrnbgegryjclanlqrylrcctnjsagnljyyegjgbybapgñrnepydgayapgñrnyegjgbybñypyyzpctgypcqslkcaylgqknbcbcdclqyapsagyjnqzpglbyjyayñyagbybbcknbgdgayppyñgbykclrccjsqnbcyjenpgrknqwajytcqapgñrnepydganqslyyaagnllcacqypgyñypyylrgagñyplnqyjyqdsrspyqykclyxyqbcagzcpqcespgbyb\n"
     ]
    }
   ],
   "source": [
    "text = 'jjqaopñlhwxañejplzecepwhajyljopwjpaarlhqyeljhwwcehezwzyñemplcñwbeywyñemplwcehezwzmwñwwxñarewñaoqjiaywjeoilzazabajowyñqyewhloxñejzwhwywmwyezwzzailzebeywññwmezwiajpaahqolzawhclñepilouyhwraoyñemplcñwbeyloqjwwyyeljjayaowñewmwñwwjpeyemwñjlowhwobqpqñwowiajwvwozayexañoacqñezwz'\n",
    "cleaned_text = clean_text(text)\n",
    "results = brute_force_ceasar(cleaned_text)\n",
    "\n",
    "for result in results[:5]:\n",
    "    print(f'\\n--- Métrica: {result[1]} ---')\n",
    "    print(f'Clave: {result[0]}')\n",
    "    print(f'\\n{result[2]}')"
   ]
  },
  {
   "cell_type": "markdown",
   "metadata": {},
   "source": [
    "## Afines"
   ]
  },
  {
   "cell_type": "code",
   "execution_count": 3,
   "metadata": {},
   "outputs": [
    {
     "name": "stdout",
     "output_type": "stream",
     "text": [
      "\n",
      "--- Métrica: 0.07252574225355565 ---\n",
      "Clave a: 5\n",
      "Clave b: 15\n",
      "\n",
      "nejemplodelanecesidaddecriptoagilidadsepuedeextraerdelosataqueseartbleedugdelerrorrevelounadebilidadcrucialquepermitioalosatacantesleerlamemoriademilesdesistemasyrobarinformacionvaliosaasempresasquelograronrecuperarserapidamentefueronlasquedemostraroncriptoagilidadreemplazandorapidamentesusclavescriptograficasyalgoritmoscomprometidosporotrosnuevosysegurossteincidentesirvecomounclaroejemplodelaimportanciadelacriptoagilidadennuestrabatallacontinuacontralasamenazasdinamicasdeciberseguridad\n",
      "\n",
      "--- Métrica: 2.6110182091385066 ---\n",
      "Clave a: 14\n",
      "Clave b: 6\n",
      "\n",
      "neaedptguetrnelesquruueljqpcgrxqtqurusepmeueeocjrejuetgsrcrzmeserjcbteeumxuetejjgjjevetgmnruebqtquruljmlqrtzmepejdqcqgrtgsrcrlrncesteejtrdedgjqruedqtesuesqscedrsyjgbrjqnñgjdrlqgnvrtqgsrrsedpjesrszmetgxjrjgnjelmpejrjsejrpqurdenceñmejgntrszmeuedgscjrjgnljqpcgrxqtqurujeedptrirnugjrpqurdencesmsltrvesljqpcgxjrñqlrsyrtxgjqcdgslgdpjgdecqugspgjgcjgsnmevgsysexmjgssceqnlquencesqjvelgdgmnltrjgeaedptguetrqdpgjcrnlqruetrljqpcgrxqtquruennmescjrbrcrttrlgncqnmrlgncjrtrsrdenrirsuqnrdqlrsuelqbejsexmjquru\n",
      "\n",
      "--- Métrica: 2.8483778533783237 ---\n",
      "Clave a: 14\n",
      "Clave b: 15\n",
      "\n",
      "vnjnmycodncavntnbzdaddntrzyloagzczdadbnyundnnxlranrdncobalaiunbnarlkcnndugdncnrrorrnencouvadnkzczdadtrutzaciunynrmzlzoacobalatavlnbcnnrcamnmorzadnmzcnbdnbzblnmabhrokarzvwormatzoveaczobaabnmyrnbabiuncograrovrntuynrarbnrayzdamnvlnwunrovcabiundnmoblrarovtrzyloagzczdadrnnmycaqavdorayzdamnvlnbubtcaenbtrzylograwztabhacgorzlmobtomyromnlzdobyorolrobvuneobhbngurobblnzvtzdnvlnbzrentomouvtcaronjnmycodncazmyorlavtzadncatrzyloagzczdadnvvunblrakalaccatovlzvuatovlracabamnvaqabdzvamztabdntzknrbngurzdad\n",
      "\n",
      "--- Métrica: 2.906183714240776 ---\n",
      "Clave a: 8\n",
      "Clave b: 1\n",
      "\n",
      "tlelpfmbhlmvtldlqahvhhldnafubvsamahvhqlfylhllkunvlnhlmbqvuvjylqlvnuzmllhyshlmlnnbnnlclmbytvhlzamahvhdnydavmjylflnpauabvmbqvuvdvtulqmllnmvplpbnavhlpamlqhlqaqulpvqñnbzvnatobnpvdabtcvmabqvvqlpfnlqvqjylmbsnvnbtnldyflnvnqlnvfahvpltuloylnbtmvqjylhlpbqunvnbtdnafubvsamahvhnllpfmvrvthbnvfahvpltulqyqdmvclqdnafubsnvoadvqñvmsbnaupbqdbpfnbpluahbqfbnbunbqtylcbqñqlsynbqqulatdahltulqancldbpbytdmvnblelpfmbhlmvapfbnuvtdavhlmvdnafubvsamahvhlttylqunvzvuvmmvdbtuatyvdbtunvmvqvpltvrvqhatvpadvqhldazlnqlsynahvh\n",
      "\n",
      "--- Métrica: 3.135183995836347 ---\n",
      "Clave a: 10\n",
      "Clave b: 13\n",
      "\n",
      "encnqsdfzndlenmnhozlzznmtosuflñodozlzhnsinznnwutlntzndfhlulginhnltuydnnziñzndnttfttnvndfielznyodozlzmtimoldginsntqouofldfhlulmleunhdnntdlqnqftolznqodnhznhohunqlhktfyltoeaftqlmofevldofhllhnqstnhlhgindfñtltfetnmisntlthntlsozlqneunaintfedlhginznqfhutltfemtosuflñodozlztnnqsdlxlezftlsozlqneunhihmdlvnhmtosufñtlaomlhkldñftouqfhmfqstfqnuozfhsftfutfheinvfhkhnñitfhhunoemozneunhotvnmfqfiemdltfncnqsdfzndloqsftulemolzndlmtosuflñodozlzneeinhutlylulddlmfeuoeilmfeutldlhlqnelxlhzoelqomlhznmoynthnñitozlz\n"
     ]
    }
   ],
   "source": [
    "text = 'zigiuñpjdipoziyicbdoddiyxbñhjorbpbdodciñmidiiahxoixdipjcohosmicioxhtpiidmrdipixxjxxiqipjmzoditbpbdodyxmybopsmiñixubhbjopjcohoyozhicpiixpouiujxbodiubpicdicbchiuocfxjtoxbznjxuoybjzqopbjcoociuñxicocsmipjrxoxjzxiymñixoxcixoñbdouizhinmixjzpocsmidiujchxoxjzyxbñhjorbpbdodxiiuñpokozdjxoñbdouizhicmcypoqicyxbñhjrxonbyocfoprjxbhujcyjuñxjuihbdjcñjxjhxjczmiqjcfcirmxjcchibzybdizhicbxqiyjujmzypoxjigiuñpjdipobuñjxhozybodipoyxbñhjorbpbdodizzmichxotohoppoyjzhbzmoyjzhxopocouizokocdbzoubyocdiybtixcirmxbdod'\n",
    "cleaned_text = clean_text(text)\n",
    "results = brute_force_afines(cleaned_text)\n",
    "for result in results[:5]:\n",
    "    print(f'\\n--- Métrica: {result[2]} ---')\n",
    "    print(f'Clave a: {result[0]}')\n",
    "    print(f'Clave b: {result[1]}')\n",
    "    print(f'\\n{result[3]}')"
   ]
  },
  {
   "cell_type": "markdown",
   "metadata": {},
   "source": [
    "## Veginere"
   ]
  },
  {
   "cell_type": "code",
   "execution_count": 5,
   "metadata": {},
   "outputs": [
    {
     "name": "stdout",
     "output_type": "stream",
     "text": [
      "\n",
      "--- Métrica: 0.09620861803753623 ---\n",
      "Clave: payaso\n",
      "\n",
      "aunqueelerrorheartbleedsehasolucionadosiemprehayunanuevaamenazaenelhorizontehoylacuanticaesesaamenazaquepuedeatravesartodasnuestrasdefensasantesdequetodoesteperdidodebemosadoptarlacriptoagilidadparadefendernosdisponibleenlasprincipalessolucionesdecriptografiaposcuanticapqcdelaactualidadlaevidenciadelaamenazainminentedelacomputacioncuanticayaestaaquiespecialmentecontecnicascomostorenowdecryptlatersndlqueyaestanenjuegosndlesunmetodoenelqueserobandatoscifradosysealmacenanhastaquelospiratasinformaticospuedandescifrarlosmastardeconunacomputadoracuanticaestosignificaunaamenazainminentelosdatoscifradossegonlosestandaresactualesperoalmacenadosparaundescifradofuturoestaranenriesgoyaquelascomputadorascuanticaseventualmenteromperanlosmetodosdecifradoactualesporlotantosndlesunabombadetiempoyunclarorecordatoriodelaurgenciadeactualizarnuestrosmetodosdecifradoparaqueseansegurosparalacomputacioncuanticaelenfoquepqcabordalanecesidaddecriptoagilidadconvulnerabilidadescomosndlquepresentanunpeligroclaroypresenteahoraeselmomentodedarunsaltocuanticoennuestracriptografia\n",
      "\n",
      "--- Métrica: 0.17493029225777432 ---\n",
      "Clave: payaro\n",
      "\n",
      "aunqveelersorheastbleeesehasplucioñadosifmprehbyunanvevaamfnazaeñelhorjzonteioylacvanticbesesabmenazbquepufdeatrbvesaruodasnvestratdefentasantfsdequftodoettepereidodecemosaeoptarmacripuoagiljdadpasadefeñdernotdispoñibleeñlasprjncipamessolvcionetdecriqtogragiaposduantidapqcdflaactvalidaelaevieenciaeelaamfnazaiñminenuedeladomputbcioncvanticbyaestbaquietpeciammentedontecñicascpmostosenowdfcryptmatersñdlquezaestañenjuehosndlfsunmeuodoenflquesfrobaneatoscjfradotysealnacenañhastaruelosqiratatinfornaticotpuedañdescigrarlotmastasdeconvnacomqutadosacuanuicaesuosignjficauñaamenbzainmjnentemosdatpscifrbdossehonlosfstandbresacuualesqeroalnacenaeosparbundesdifradpfuturpestarbnenrifsgoyaruelasdomputbdorasduantidaseveñtualmfnteronperanmosmetpdosdedifradpactuamespormotantpsndletunabonbadetjempoyvnclarprecoreatoripdelausgencibdeactvalizasnuestsosmetpdosdedifradpparaqveseantegurotparalbcompuuacionduantidaelengoqueprcaborealanedesidaedecriqtoagimidadcpnvulnfrabiljdadesdomosnelquepsesentbnunpemigrocmaroypsesentfahorafselmonentodfdaruntaltocvanticpennuettracrjptogrbfia\n",
      "\n",
      "--- Métrica: 0.18918309660513677 ---\n",
      "Clave: payako\n",
      "\n",
      "aunqdeeleraorheaatbleemsehasxluciovadosinmprehjyunandevaamnnazaevelhorqzontepoylacdanticjesesajmenazjquepundeatrjvesarcodasndestrabdefenbasantnsdequntodoebtepermidodekemosamoptartacripcoagilqdadpaaadefevdernobdispovibleevlasprqncipatessoldcionebdecriytograñiaposluantilapqcdnlaactdalidamlaevimenciamelaamnnazaivminencedelalomputjcioncdanticjyaestjaquiebpeciatmentelontecvicascxmostoaenowdncrypttatersvdlquehaestavenjueoosndlnsunmecodoennlquesnrobanmatoscqfradobysealuacenavhastazuelosyiratabinforuaticobpuedavdesciñrarlobmastaadecondnacomyutadoaacuancicaescosignqficauvaamenjzainmqnentetosdatxscifrjdosseoonlosnstandjresaccualesyeroaluacenamosparjundeslifradxfuturxestarjnenrinsgoyazuelaslomputjdorasluantilasevevtualmnnterouperantosmetxdosdelifradxactuatesportotantxsndlebunaboubadetqempoydnclarxrecormatorixdelauagencijdeactdalizaanuestaosmetxdosdelifradxparaqdeseanbegurobparaljcompucacionluantilaelenñoquepzcabormalanelesidamdecriytoagitidadcxnvulnnrabilqdadeslomosnmlquepaesentjnunpetigroctaroypaesentnahoranselmouentodndarunbaltocdanticxennuebtracrqptogrjfia\n",
      "\n",
      "--- Métrica: 0.21062780286274121 ---\n",
      "Clave: payafo\n",
      "\n",
      "aunqieelerforheaftbleeqsehasclucioaadosirmprehñyunanievaamrnazaeaelhorvzonteuoylacianticñesesañmenazñquepurdeatrñvesarhodasniestragdefengasantrsdequrtodoegteperqidodeoemosaqoptaryacriphoagilvdadpafadefeadernogdispoaibleealasprvncipayessolicionegdecridtograsiapospuantipapqcdrlaactialidaqlaeviqenciaqelaamrnazaiaminenhedelapomputñcioncianticñyaestñaquiegpeciaymentepontecaicasccmostofenowdrcryptyatersadlquemaestaaenjuetosndlrsunmehodoenrlquesrrobanqatoscvfradogysealzacenaahastaeuelosdirataginforzaticogpuedaadescisrarlogmastafdeconinacomdutadofacuanhicaeshosignvficauaaamenñzainmvnenteyosdatcscifrñdossetonlosrstandñresachualesderoalzacenaqosparñundespifradcfuturcestarñnenrirsgoyaeuelaspomputñdoraspuantipaseveatualmrnterozperanyosmetcdosdepifradcactuayesporyotantcsndlegunabozbadetvempoyinclarcrecorqatoricdelaufgenciñdeactializafnuestfosmetcdosdepifradcparaqieseangegurogparalñcompuhacionpuantipaelensoquepecaborqalanepesidaqdecridtoagiyidadccnvulnrrabilvdadespomosnqlquepfesentñnunpeyigrocyaroypfesentrahorarselmozentodrdarungaltocianticcennuegtracrvptogrñfia\n",
      "\n",
      "--- Métrica: 0.21286419987208147 ---\n",
      "Clave: paaaso\n",
      "\n",
      "aulqueelcrrorhcartblcedsehysolucgonadoqiemprchayunynuevaymenazyenelhnrizonrehoylycuantgcaeseqaamenyzaqueñuedearravesyrtodaqnuestpasdefcnsasaltesdeouetodnestepcrdidobebemoqadoptyrlacrgptoagglidadñaradedenderlosdisñoniblcenlasñrinciñalessnluciolesdecpiptogpafiapnscuanricapqadelaaatualibadlaetidencgadelaymenazyinmincntedejacompstaciolcuantgcayaeqtaaqugespecgalmenrecontccnicaqcomosrorenoudecryñtlatepsndlqseyaesranenjsegosnblesunketodocnelqucserobyndatoqcifrabosyseylmacelanhasraquelnspirarasinfnrmatiaospuebandesaifrarjosmasrardecnnunacnmputaboracuynticacstosienificyunaamcnazailminenrelosdytoscidradosqegonlnsestaldaresyctualcsperoylmaceladospyraundcscifrydofutsroestyranenpiesgowaquelyscompstadoryscuanricasetentuajmentepomperynlosmctodosbecifrydoactsalespnrlotaltosndjesunazombadctiempnyunclyrorecnrdatopiodelyurgenaiadeaatualixarnueqtrosmctodosbecifrydoparyqueseynseguposparylacomñutacinncuanricaelcnfoqucpqcabnrdalalecesibaddecpiptoaeilidabconvujnerabglidadcscomoqndlqucpreseltanunñeligrnclarowpreselteahopaeselkomentndedarsnsaltncuantgcoennsestraariptoerafia\n"
     ]
    }
   ],
   "source": [
    "text = 'pulqnstlcrkdhhcakiqlcevhthyshzkcgofosoqiwafrchsnknynnslaymwbpzyefsahnrañenrezdñlycnoctgcssieqasatnyzsfkeñuwrtarrsktsyrmdsaqnnsitpalrtfcnloialtwhseouwiednelitpcrvwsobetsboqavdftyrdorrgpmdpgglarpdñakosedefrtrlolrxsñofwqlcefzpsñrabriñadsisnlnqxolelrtcpiiiegpaxwppnsujpnriuofqadwzpaatnoaibavzpetivsccgavsaaymwbpzyifaxncnmssejaudbpstsqxolcnoctgcsnpeqtsogugeletcgadatnreudctccfwraqchaesrokscoudwqhyñtdojepsfraqseqotsrafscjseydinblwhknkemdsocnwzgucswgebynvojoqcathabolnieyleorelafvpsrajjtlnsiwharalwcfnreojiaolekebafrtsaixgprjolapsrakrtcnnnbpcnmijjabokoruynmwracsmdiienatxcyufopmcnsñpilmabtnreddidythhridrsresqeydclnswhjaldsgtsycmjplcsishoyleorelavdipyrsjcdcsuwurydhtktsrhsityrsbtnpiwhvowajjtlysudbpstsrerysujpnriuoietefikajmwbjepoeetrynddimcthresbeuwurydhortsadsipnrddjalthhcdjeljcazoeppdctasbpnynbrlyrhgtcnrvojopihrtlyukutnaisrtaatnoaixakbkeqtkdimcthresbeuwurydhepryqnsieynlsvupoleprylsqemñumorinnujpnriuotlcnxdgucpjqpbnrvoaaleusiibavrtcpiiieaeidwsabchblujnwgpbglarpdcsudboqnvzgucpksieltsbknñedwvrncdohowpksieltwowopawhtlkoesctndwrprsnloatncnoctgchscnselihaaraejoerstxa'\n",
    "cleaned_text = clean_text(text)\n",
    "results = brute_force_vigenere(cleaned_text, max_key_length=6, prefix=\"pa\")\n",
    "for result in results[:5]:\n",
    "    print(f'\\n--- Métrica: {result[1]} ---')\n",
    "    print(f'Clave: {result[0]}')\n",
    "    print(f'\\n{result[2]}')"
   ]
  },
  {
   "cell_type": "markdown",
   "metadata": {},
   "source": [
    "Laboratorio realizado con el apoyo de GPT-4o: https://chatgpt.com/share/67a55871-4cfc-800e-ab99-d63e0716f0ba"
   ]
  }
 ],
 "metadata": {
  "kernelspec": {
   "display_name": "Python 3",
   "language": "python",
   "name": "python3"
  },
  "language_info": {
   "codemirror_mode": {
    "name": "ipython",
    "version": 3
   },
   "file_extension": ".py",
   "mimetype": "text/x-python",
   "name": "python",
   "nbconvert_exporter": "python",
   "pygments_lexer": "ipython3",
   "version": "3.11.7"
  }
 },
 "nbformat": 4,
 "nbformat_minor": 2
}
