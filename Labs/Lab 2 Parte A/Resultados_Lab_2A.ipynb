{
 "cells": [
  {
   "cell_type": "markdown",
   "metadata": {},
   "source": [
    "# Laboratorio 2 Parte A\n",
    "## Resultados\n",
    "Universidad del Valle de Guatemala<br>\n",
    "Cifrado de Información<br>\n",
    "Pablo Andrés Zamora Vásquez<br>\n",
    "Carné 21780\n",
    "\n"
   ]
  },
  {
   "cell_type": "code",
   "execution_count": 1,
   "metadata": {},
   "outputs": [],
   "source": [
    "from asciiToBase64 import ascii_to_base64\n",
    "from base64ToAscii import base64_to_ascii\n",
    "from binaryToAscii import binary_to_ascii\n",
    "from asciiToBinary import ascii_to_binary\n",
    "from xor import xor"
   ]
  },
  {
   "cell_type": "markdown",
   "metadata": {},
   "source": [
    "## ASCII a Binario"
   ]
  },
  {
   "cell_type": "code",
   "execution_count": 2,
   "metadata": {},
   "outputs": [
    {
     "name": "stdout",
     "output_type": "stream",
     "text": [
      "01001000011011110110110001100001001000000101000001100001011000100110110001101111\n"
     ]
    }
   ],
   "source": [
    "text = 'Hola Pablo'\n",
    "binary_text = ascii_to_binary(text)\n",
    "print(binary_text)"
   ]
  },
  {
   "cell_type": "code",
   "execution_count": 3,
   "metadata": {},
   "outputs": [
    {
     "name": "stdout",
     "output_type": "stream",
     "text": [
      "010001010111001101110100011001010010000001100101011100110010000001110101011011100010000001110100011001010111100001110100011011110010000001100011011010010110011001110010011000010110010001101111\n"
     ]
    }
   ],
   "source": [
    "text = 'Este es un texto cifrado'\n",
    "binary_text = ascii_to_binary(text)\n",
    "print(binary_text)"
   ]
  },
  {
   "cell_type": "markdown",
   "metadata": {},
   "source": [
    "## Binario a ASCII"
   ]
  },
  {
   "cell_type": "code",
   "execution_count": 4,
   "metadata": {},
   "outputs": [
    {
     "name": "stdout",
     "output_type": "stream",
     "text": [
      "Hola Pablo\n"
     ]
    }
   ],
   "source": [
    "binary_text = '01001000011011110110110001100001001000000101000001100001011000100110110001101111'\n",
    "text = binary_to_ascii(binary_text)\n",
    "print(text)"
   ]
  },
  {
   "cell_type": "code",
   "execution_count": 5,
   "metadata": {},
   "outputs": [
    {
     "name": "stdout",
     "output_type": "stream",
     "text": [
      "Este es un texto cifrado\n"
     ]
    }
   ],
   "source": [
    "binary_text = '010001010111001101110100011001010010000001100101011100110010000001110101011011100010000001110100011001010111100001110100011011110010000001100011011010010110011001110010011000010110010001101111'\n",
    "text = binary_to_ascii(binary_text)\n",
    "print(text)"
   ]
  },
  {
   "cell_type": "markdown",
   "metadata": {},
   "source": [
    "## ASCII a Base64"
   ]
  },
  {
   "cell_type": "code",
   "execution_count": 6,
   "metadata": {},
   "outputs": [
    {
     "name": "stdout",
     "output_type": "stream",
     "text": [
      "SG9sYSBQYWJsbw==\n"
     ]
    }
   ],
   "source": [
    "text = 'Hola Pablo'\n",
    "base64_text = ascii_to_base64(text)\n",
    "print(base64_text)"
   ]
  },
  {
   "cell_type": "code",
   "execution_count": 7,
   "metadata": {},
   "outputs": [
    {
     "name": "stdout",
     "output_type": "stream",
     "text": [
      "RXN0ZSBlcyB1biB0ZXh0byBjaWZyYWRv\n"
     ]
    }
   ],
   "source": [
    "text = 'Este es un texto cifrado'\n",
    "base64_text = ascii_to_base64(text)\n",
    "print(base64_text)"
   ]
  },
  {
   "cell_type": "markdown",
   "metadata": {},
   "source": [
    "## Base64 a ASCII"
   ]
  },
  {
   "cell_type": "code",
   "execution_count": 8,
   "metadata": {},
   "outputs": [
    {
     "name": "stdout",
     "output_type": "stream",
     "text": [
      "Hola Pablo\n"
     ]
    }
   ],
   "source": [
    "base64_text = 'SG9sYSBQYWJsbw=='\n",
    "text = base64_to_ascii(base64_text)\n",
    "print(text)"
   ]
  },
  {
   "cell_type": "code",
   "execution_count": 9,
   "metadata": {},
   "outputs": [
    {
     "name": "stdout",
     "output_type": "stream",
     "text": [
      "Este es un texto cifrado\n"
     ]
    }
   ],
   "source": [
    "base64_text = 'RXN0ZSBlcyB1biB0ZXh0byBjaWZyYWRv'\n",
    "text = base64_to_ascii(base64_text)\n",
    "print(text)"
   ]
  },
  {
   "cell_type": "markdown",
   "metadata": {},
   "source": [
    "## XOR"
   ]
  },
  {
   "cell_type": "code",
   "execution_count": 10,
   "metadata": {},
   "outputs": [
    {
     "name": "stdout",
     "output_type": "stream",
     "text": [
      "Texto cifrado en binario: 001011010001110000011000000000000000110001000101000101100101001100011000000001000000000000001001000111110100000100000011000010110100010100000111000100010001100101010100000010100101001101000011000001010000011101010010000011010000100000001110\n",
      "Texto cifrado en ASCII: -\u001c\u0018\u0000\fE\u0016S\u0018\u0004\u0000\t\u001fA\u0003\u000bE\u0007\u0011\u0019T\n",
      "SC\u0005\u0007R\u000e\n",
      "\n",
      "Texto descifrado en binario: 010010000110111101101100011000010010110000100000011001010111001101110100011001010010000001100101011100110010000001110101011011100010000001110100011001010111100001110100011011110010000001100011011010010110011001110010011000010110010001101111\n",
      "Texto descifrado en ASCII: Hola, este es un texto cifrado\n"
     ]
    }
   ],
   "source": [
    "texto = 'Hola, este es un texto cifrado'\n",
    "llave = 'esta es la llave'\n",
    "\n",
    "texto_binario = ascii_to_binary(texto)\n",
    "llave_binario = ascii_to_binary(llave)\n",
    "\n",
    "texto_cifrado = xor(texto_binario, llave_binario)\n",
    "print('Texto cifrado en binario:', texto_cifrado)\n",
    "print('Texto cifrado en ASCII:', binary_to_ascii(texto_cifrado))\n",
    "\n",
    "texto_descifrado = xor(texto_cifrado, llave_binario)\n",
    "\n",
    "print('\\nTexto descifrado en binario:', texto_descifrado)\n",
    "print('Texto descifrado en ASCII:', binary_to_ascii(texto_descifrado))"
   ]
  }
 ],
 "metadata": {
  "kernelspec": {
   "display_name": "Python 3",
   "language": "python",
   "name": "python3"
  },
  "language_info": {
   "codemirror_mode": {
    "name": "ipython",
    "version": 3
   },
   "file_extension": ".py",
   "mimetype": "text/x-python",
   "name": "python",
   "nbconvert_exporter": "python",
   "pygments_lexer": "ipython3",
   "version": "3.11.7"
  }
 },
 "nbformat": 4,
 "nbformat_minor": 2
}
