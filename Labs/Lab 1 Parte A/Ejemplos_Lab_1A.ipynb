{
 "cells": [
  {
   "cell_type": "markdown",
   "metadata": {},
   "source": [
    "# Laboratorio 1\n",
    "## Parte A: Ejemplos\n",
    "Universidad del Valle de Guatemala<br>\n",
    "Cifrado de Información<br>\n",
    "Pablo Andrés Zamora Vásquez<br>\n",
    "Carné 21780\n",
    "\n"
   ]
  },
  {
   "cell_type": "code",
   "execution_count": 1,
   "metadata": {},
   "outputs": [],
   "source": [
    "from afin import *\n",
    "from ceasar import *\n",
    "from vigenere import *\n",
    "from frequency_analysis import *"
   ]
  },
  {
   "cell_type": "markdown",
   "metadata": {},
   "source": [
    "## Ceasar"
   ]
  },
  {
   "cell_type": "code",
   "execution_count": 2,
   "metadata": {},
   "outputs": [
    {
     "name": "stdout",
     "output_type": "stream",
     "text": [
      "Texto original: Hola Pablo, ¿cómo estás?\n",
      "Texto cifrado: krñdsdeñrfrorhvwdv\n",
      "Texto decifrado: holapablocomoestas\n"
     ]
    }
   ],
   "source": [
    "text = \"Hola Pablo, ¿cómo estás?\"\n",
    "encrypted_text = ceasar_encrypt(text, 3)\n",
    "decrypted_text = ceasar_decrypt(encrypted_text, 3)\n",
    "\n",
    "print('Texto original:', text)\n",
    "print('Texto cifrado:', encrypted_text)\n",
    "print('Texto decifrado:', decrypted_text)"
   ]
  },
  {
   "cell_type": "markdown",
   "metadata": {},
   "source": [
    "## Afines"
   ]
  },
  {
   "cell_type": "code",
   "execution_count": 3,
   "metadata": {},
   "outputs": [
    {
     "name": "stdout",
     "output_type": "stream",
     "text": [
      "Texto original: Este es un texto cualquiera\n",
      "Texto cifrado: ortoorvgtobtklvhcñvwoph\n",
      "Texto decifrado: esteesuntextocualquiera\n"
     ]
    }
   ],
   "source": [
    "text = \"Este es un texto cualquiera\"\n",
    "a = 2\n",
    "b = 34\n",
    "encrypted_text = afin_encrypt(text, a, b)\n",
    "decrypted_text = afin_decrypt(encrypted_text, a, b)\n",
    "\n",
    "print('Texto original:', text)\n",
    "print('Texto cifrado:', encrypted_text)\n",
    "print('Texto decifrado:', decrypted_text)"
   ]
  },
  {
   "cell_type": "markdown",
   "metadata": {},
   "source": [
    "## Veginere"
   ]
  },
  {
   "cell_type": "code",
   "execution_count": 4,
   "metadata": {},
   "outputs": [
    {
     "name": "stdout",
     "output_type": "stream",
     "text": [
      "Texto original: Clase de cifrados\n",
      "Texto cifrado: tagktjvrñwhguey\n",
      "Texto decifrado: clasedecifrados\n"
     ]
    }
   ],
   "source": [
    "text = \"Clase de cifrados\"\n",
    "key = \"rpg\"\n",
    "encrypted_text = vigenere_encrypt(text, key)\n",
    "decrypted_text = vigenere_decrypt(encrypted_text, key)\n",
    "\n",
    "print('Texto original:', text)\n",
    "print('Texto cifrado:', encrypted_text)\n",
    "print('Texto decifrado:', decrypted_text)"
   ]
  },
  {
   "cell_type": "markdown",
   "metadata": {},
   "source": [
    "## Análisis de frecuencias"
   ]
  },
  {
   "cell_type": "code",
   "execution_count": 5,
   "metadata": {},
   "outputs": [
    {
     "name": "stdout",
     "output_type": "stream",
     "text": [
      "{'a': 0.1297554347826087, 'b': 0.010529891304347826, 'c': 0.04823369565217391, 'd': 0.04891304347826087, 'e': 0.1297554347826087, 'f': 0.011209239130434782, 'g': 0.01358695652173913, 'h': 0.003736413043478261, 'i': 0.08355978260869565, 'j': 0.004076086956521739, 'l': 0.05366847826086957, 'm': 0.028532608695652172, 'n': 0.07608695652173914, 'o': 0.08355978260869565, 'p': 0.025135869565217392, 'q': 0.003736413043478261, 'r': 0.06114130434782609, 's': 0.07302989130434782, 't': 0.05298913043478261, 'u': 0.03125, 'v': 0.009510869565217392, 'x': 0.0020380434782608695, 'y': 0.008152173913043478, 'z': 0.007133152173913043, 'ñ': 0.0006793478260869565}\n"
     ]
    },
    {
     "data": {
      "image/png": "[encoded data removed]",
      "text/plain": [
       "<Figure size 1200x600 with 1 Axes>"
      ]
     },
     "metadata": {},
     "output_type": "display_data"
    }
   ],
   "source": [
    "# Prompt realizado a GPT-4o: Genera un texto de 500 palabras para que pueda realizar un análisis de frecuencias\n",
    "\n",
    "text = \"\"\"\n",
    "La inteligencia artificial ha avanzado de manera significativa en los últimos años, impactando diversos sectores como la salud, la educación, el entretenimiento y la industria. Esta evolución ha permitido el desarrollo de sistemas capaces de realizar tareas complejas que antes solo podían ser ejecutadas por humanos. Desde el reconocimiento de voz y la traducción automática hasta los asistentes virtuales y los vehículos autónomos, la IA está revolucionando nuestra forma de interactuar con la tecnología.\n",
    "\n",
    "Uno de los avances más notables en la inteligencia artificial es el aprendizaje profundo, una rama del aprendizaje automático que emplea redes neuronales artificiales para procesar grandes volúmenes de datos. Estas redes están inspiradas en el funcionamiento del cerebro humano y pueden reconocer patrones complejos en imágenes, texto y audio. Gracias a esta tecnología, se han logrado importantes avances en la detección de enfermedades, la generación de contenido creativo y la optimización de procesos industriales.\n",
    "\n",
    "El impacto de la inteligencia artificial en la economía global es innegable. Empresas de todo el mundo están invirtiendo en IA para mejorar la eficiencia operativa, reducir costos y ofrecer experiencias más personalizadas a sus clientes. En el sector financiero, los algoritmos de IA analizan grandes cantidades de datos en tiempo real para detectar fraudes y predecir tendencias del mercado. En la manufactura, los robots inteligentes optimizan la producción y minimizan errores. En el comercio electrónico, los sistemas de recomendación basados en IA mejoran la experiencia del usuario al sugerir productos relevantes.\n",
    "\n",
    "Sin embargo, el avance de la inteligencia artificial también plantea desafíos éticos y sociales. La automatización de empleos ha generado preocupaciones sobre el futuro del trabajo y la necesidad de adaptar la educación para preparar a las nuevas generaciones para un mercado laboral en constante cambio. Además, la IA plantea preguntas sobre la privacidad y el uso responsable de los datos. Es crucial establecer regulaciones y principios éticos que guíen el desarrollo y la implementación de estas tecnologías para garantizar su uso beneficioso para la sociedad.\n",
    "\n",
    "A pesar de estos desafíos, la inteligencia artificial continúa evolucionando y ofreciendo oportunidades sin precedentes. En el ámbito de la salud, los modelos de IA están ayudando a diagnosticar enfermedades con mayor precisión y rapidez. En la educación, las plataformas de aprendizaje personalizadas están mejorando la enseñanza y la retención del conocimiento. En el entretenimiento, la IA está siendo utilizada para crear música, arte y contenido audiovisual innovador.\n",
    "\n",
    "El futuro de la inteligencia artificial es prometedor, pero también requiere un enfoque equilibrado que considere tanto los beneficios como los riesgos. A medida que estas tecnologías se integran cada vez más en nuestra vida cotidiana, es fundamental que la sociedad, los gobiernos y las empresas trabajen juntos para maximizar su impacto positivo y mitigar posibles efectos negativos.\n",
    "\n",
    "En conclusión, la inteligencia artificial está transformando el mundo de maneras inimaginables hace solo unas décadas. Su capacidad para analizar datos, reconocer patrones y tomar decisiones de manera autónoma ha abierto nuevas posibilidades en múltiples campos. Sin embargo, su desarrollo también exige una reflexión profunda sobre cómo garantizar que su evolución sea ética, equitativa y sostenible para el bienestar de la humanidad.\n",
    "\n",
    "\"\"\"\n",
    "\n",
    "frequencies = frequency_analysis(text)\n",
    "print(frequencies)\n",
    "\n",
    "plot_frequencies(frequencies)"
   ]
  }
 ],
 "metadata": {
  "kernelspec": {
   "display_name": "Python 3",
   "language": "python",
   "name": "python3"
  },
  "language_info": {
   "codemirror_mode": {
    "name": "ipython",
    "version": 3
   },
   "file_extension": ".py",
   "mimetype": "text/x-python",
   "name": "python",
   "nbconvert_exporter": "python",
   "pygments_lexer": "ipython3",
   "version": "3.11.7"
  }
 },
 "nbformat": 4,
 "nbformat_minor": 2
}
